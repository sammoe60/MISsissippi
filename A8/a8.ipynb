{
 "cells": [
  {
   "cell_type": "markdown",
   "metadata": {},
   "source": [
    "# Assessment 8 ETL Report\n"
   ]
  },
  {
   "cell_type": "markdown",
   "metadata": {},
   "source": [
    "## Introduction\n",
    "The United States is a country with broad demographics and thriving business culture. To investigate whether demographics and businesses correlate in the US, survey data by the United States Census Bureau needs to be tranformed into information. Cleaning and normalizing the data allows for better analysis and visualizations where patterns may be observed. This report details the steps necessary to obtain usable data from the surveys conducted from 2018 to 2020. \n",
    "## Data Sources\n",
    "The survey data is on the US Census website. The site was accessed on April 19, 2023. \n",
    ">   Bureau, U. C. (n.d.). Annual Business Survey (ABS) APIs. Census.gov. Retrieved April 20, 2023, from https://www.census.gov/data/developers/data-sets/ abs.2019.html"
   ]
  },
  {
   "cell_type": "markdown",
   "metadata": {},
   "source": [
    "## Extraction\n",
    "The survey data was accessed through the US Census Bureau API. In order to perform the extraction, we imported pandas and requests library. We performed GET requests for each of the desired years' API using strings to represent their respective years. "
   ]
  },
  {
   "cell_type": "code",
   "execution_count": 1,
   "metadata": {},
   "outputs": [],
   "source": [
    "import pandas as pd\n",
    "import requests\n",
    "url_2018 = f'https://api.census.gov/data/2018/abscs?get=GEO_ID,NAME,NAICS2017,NAICS2017_LABEL,SEX,SEX_LABEL,ETH_GROUP,ETH_GROUP_LABEL,RACE_GROUP,RACE_GROUP_LABEL,VET_GROUP,VET_GROUP_LABEL,EMPSZFI,EMPSZFI_LABEL,YEAR,FIRMPDEMP,FIRMPDEMP_F,RCPPDEMP,RCPPDEMP_F,EMP,EMP_F,PAYANN,PAYANN_F,FIRMPDEMP_S,FIRMPDEMP_S_F,RCPPDEMP_S,RCPPDEMP_S_F,EMP_S,EMP_S_F,PAYANN_S,PAYANN_S_F&for=us:*'\n",
    "url_2019 = f'https://api.census.gov/data/2019/abscs?get=GEO_ID,NAME,NAICS2017,NAICS2017_LABEL,SEX,SEX_LABEL,ETH_GROUP,ETH_GROUP_LABEL,RACE_GROUP,RACE_GROUP_LABEL,VET_GROUP,VET_GROUP_LABEL,EMPSZFI,EMPSZFI_LABEL,YEAR,FIRMPDEMP,FIRMPDEMP_F,RCPPDEMP,RCPPDEMP_F,EMP,EMP_F,PAYANN,PAYANN_F,FIRMPDEMP_S,FIRMPDEMP_S_F,RCPPDEMP_S,RCPPDEMP_S_F,EMP_S,EMP_S_F,PAYANN_S,PAYANN_S_F&for=us:*'\n",
    "url_2020 = f'https://api.census.gov/data/2020/abscs?get=GEO_ID,NAME,NAICS2017,NAICS2017_LABEL,SEX,SEX_LABEL,ETH_GROUP,ETH_GROUP_LABEL,RACE_GROUP,RACE_GROUP_LABEL,VET_GROUP,VET_GROUP_LABEL,EMPSZFI,EMPSZFI_LABEL,YEAR,FIRMPDEMP,FIRMPDEMP_F,RCPPDEMP,RCPPDEMP_F,EMP,EMP_F,PAYANN,PAYANN_F,FIRMPDEMP_S,FIRMPDEMP_S_F,RCPPDEMP_S,RCPPDEMP_S_F,EMP_S,EMP_S_F,PAYANN_S,PAYANN_S_F&for=us:*'\n",
    "\n",
    "response_2018 = requests.get(url_2018)\n",
    "response_2019 = requests.get(url_2019)\n",
    "response_2020 = requests.get(url_2020)"
   ]
  },
  {
   "cell_type": "markdown",
   "metadata": {},
   "source": [
    "We transformed the GET requests into JSON for each year. "
   ]
  },
  {
   "cell_type": "code",
   "execution_count": 2,
   "metadata": {},
   "outputs": [],
   "source": [
    " # get JSON object from response\n",
    "json_2018 = response_2018.json()\n",
    "json_2019 = response_2019.json()\n",
    "json_2020 = response_2020.json()"
   ]
  },
  {
   "cell_type": "markdown",
   "metadata": {},
   "source": [
    "We used the resulting JSON objects to create DataFrames. "
   ]
  },
  {
   "cell_type": "markdown",
   "metadata": {},
   "source": [
    "## Transformation\n",
    "We transformed the first row in the DataFrames into the header row to allow us to have column names and the names would not be counted as data. Next, we dropped the duplicate header row. We renamed the columns in the three DataFrames to more descriptive names to help us understand what we are looking at. We filtered the columns in the DataFrames to the columns that were relevant to our objectives. We then added a year column so that we could concatenate the three DataFrames and still reference the year. To use certain categories in the columns, we filtered the rows in each DataFrame to include the most meaningful information for our objectives."
   ]
  },
  {
   "cell_type": "code",
   "execution_count": 3,
   "metadata": {},
   "outputs": [],
   "source": [
    "# create DataFrame from JSON object\n",
    "df_18 = pd.DataFrame(json_2018)\n",
    "df_19 = pd.DataFrame(json_2019)\n",
    "df_20 = pd.DataFrame(json_2020)\n",
    "\n",
    "#  promote headers\n",
    "df_18.columns = df_18.iloc[0]\n",
    "df_19.columns = df_19.iloc[0]\n",
    "df_20.columns = df_20.iloc[0]\n",
    "\n",
    "# drop original header row\n",
    "df_18.drop([0], inplace=True)\n",
    "df_19.drop([0], inplace=True)\n",
    "df_20.drop([0], inplace=True)\n",
    "\n",
    "\n",
    "# Rename Columns\n",
    "df_18 = df_18.rename(columns={'ETH_GROUP' : 'Ethnicity code',\n",
    "                        'NAME':'Name','NAICS2017_LABEL':'NAICS2017 label',\n",
    "                        'SEX_LABEL':'Sex label','ETH_GROUP_LABEL': 'Ethnicity code label',\n",
    "                        'PAYANN':'Annual payroll', 'FIRMPDEMP': 'Number of employer firms',\n",
    "                        'RCPPDEMP':'Sales','EMP':'Number of employees','EMPSZFI':'Employment size of firms code',\n",
    "                        'RACE_GROUP_LABEL':'Race group label'})\n",
    "\n",
    "df_19 = df_19.rename(columns={'ETH_GROUP' : 'Ethnicity code',\n",
    "                        'NAME':'Name','NAICS2017_LABEL':'NAICS2017 label',\n",
    "                        'SEX_LABEL':'Sex label','ETH_GROUP_LABEL': 'Ethnicity code label',\n",
    "                        'PAYANN':'Annual payroll', 'FIRMPDEMP': 'Number of employer firms',\n",
    "                        'RCPPDEMP':'Sales','EMP':'Number of employees','EMPSZFI':'Employment size of firms code',\n",
    "                        'RACE_GROUP_LABEL':'Race group label'})\n",
    "\n",
    "df_20 = df_20.rename(columns={'ETH_GROUP' : 'Ethnicity code',\n",
    "                        'NAME':'Name','NAICS2017_LABEL':'NAICS2017 label',\n",
    "                        'SEX_LABEL':'Sex label','ETH_GROUP_LABEL': 'Ethnicity code label',\n",
    "                        'PAYANN':'Annual payroll', 'FIRMPDEMP': 'Number of employer firms',\n",
    "                        'RCPPDEMP':'Sales','EMP':'Number of employees','EMPSZFI':'Employment size of firms code',\n",
    "                        'RACE_GROUP_LABEL':'Race group label'})\n",
    "# Filter Columns\n",
    "df_18 = df_18[['NAICS2017 label','Sex label','Ethnicity code label',\n",
    "        'Race group label', 'Annual payroll', 'Number of employer firms', 'Sales', \n",
    "        'Number of employees', 'Employment size of firms code']]\n",
    "\n",
    "df_19 = df_19[['NAICS2017 label','Sex label','Ethnicity code label',\n",
    "        'Race group label', 'Annual payroll', 'Number of employer firms', 'Sales', \n",
    "        'Number of employees', 'Employment size of firms code']]\n",
    "\n",
    "df_20 = df_20[['NAICS2017 label','Sex label','Ethnicity code label',\n",
    "        'Race group label', 'Annual payroll', 'Number of employer firms', 'Sales', \n",
    "        'Number of employees', 'Employment size of firms code']]\n",
    "\n",
    "df_18['Year'] = 2018\n",
    "df_19['Year'] = 2019\n",
    "df_20['Year'] = 2020"
   ]
  },
  {
   "cell_type": "markdown",
   "metadata": {},
   "source": [
    "After we added the year column to the three DataFrames with their respective years. We concatenated the three DataFrames to the final DataFrame, df_merge."
   ]
  },
  {
   "cell_type": "code",
   "execution_count": 4,
   "metadata": {},
   "outputs": [],
   "source": [
    "all_df = [df_18,df_19,df_20]\n",
    "df_merge = pd.concat(all_df, ignore_index=True)"
   ]
  },
  {
   "cell_type": "markdown",
   "metadata": {},
   "source": [
    " Additionally, we converted the datatypes of columns that has numbers we used from objects to integers."
   ]
  },
  {
   "cell_type": "code",
   "execution_count": 5,
   "metadata": {},
   "outputs": [],
   "source": [
    "df_merge['Annual payroll'] = df_merge['Annual payroll'].astype('int64')\n",
    "df_merge['Number of employees'] = df_merge['Number of employees'].astype('int64')\n",
    "df_merge['Sales'] = df_merge['Sales'].astype('int64')"
   ]
  },
  {
   "cell_type": "markdown",
   "metadata": {},
   "source": [
    "## Load\n",
    "After the transformation, the final DataFrame that was used to create visualizations is df_merge."
   ]
  },
  {
   "cell_type": "markdown",
   "metadata": {},
   "source": [
    "## Conclusion\n",
    "By following these steps, we are able to extract the needed data from our sources and transform the data so it is clean and ready to be analyzed. The data is now ready to be analyzed and can be visualized using Matplotlib, Plotly or other packages and draw conclusions from the data."
   ]
  },
  {
   "cell_type": "code",
   "execution_count": 6,
   "metadata": {},
   "outputs": [
    {
     "name": "stderr",
     "output_type": "stream",
     "text": [
      "C:\\Users\\SamuelMoe\\AppData\\Local\\Temp\\ipykernel_26376\\3753572085.py:22: UserWarning: color is redundantly defined by the 'color' keyword argument and the fmt string \"r--\" (-> color='r'). The keyword argument will take precedence.\n",
      "  plt.plot(x,p(x),\"r--\",color=trendColor, alpha = 0.6)\n"
     ]
    },
    {
     "data": {
      "image/png": "[encoded data removed]",
      "text/plain": [
       "<Figure size 640x480 with 1 Axes>"
      ]
     },
     "metadata": {},
     "output_type": "display_data"
    }
   ],
   "source": [
    "import matplotlib.pyplot as plt\n",
    "import numpy as np\n",
    "import plotly.express as px\n",
    "import plotly.graph_objects as go\n",
    "import numpy as np\n",
    "import seaborn as sns\n",
    "from numpy import mean\n",
    "from numpy import min\n",
    "from numpy import max\n",
    "\n",
    "desiredColor=\"royalblue\"\n",
    "trendColor=\"red\"\n",
    "\n",
    "x = df_merge['Number of employees']\n",
    "y = df_merge['Annual payroll']\n",
    "\n",
    "ax = df_merge.plot(title = 'Number of Employees vs. Annual Payroll', kind='scatter', x='Number of employees',y='Annual payroll',color=desiredColor)\n",
    "ax.set_xlabel('Number of Employees (100 Million)')\n",
    "ax.set_ylabel('Annual Payroll (Billion)')\n",
    "z = np.polyfit(x,y,1)\n",
    "p = np.poly1d(z)\n",
    "plt.plot(x,p(x),\"r--\",color=trendColor, alpha = 0.6)\n",
    "plt.show()"
   ]
  },
  {
   "cell_type": "code",
   "execution_count": 7,
   "metadata": {},
   "outputs": [
    {
     "data": {
      "image/png": "[encoded data removed]",
      "text/plain": [
       "<Figure size 640x480 with 1 Axes>"
      ]
     },
     "metadata": {},
     "output_type": "display_data"
    }
   ],
   "source": [
    "payroll_avg_2018 = df_merge[df_merge['Year'] == 2018]\n",
    "payroll_avg_2019 = df_merge[df_merge['Year'] == 2019]\n",
    "payroll_avg_2020 = df_merge[df_merge['Year'] == 2020]\n",
    "\n",
    "payroll_avg_2018 = payroll_avg_2018['Annual payroll'].mean()\n",
    "payroll_avg_2019 = payroll_avg_2019['Annual payroll'].mean()\n",
    "payroll_avg_2020 = payroll_avg_2020['Annual payroll'].mean()\n",
    "\n",
    "x = np.array(['2018','2019','2020'])\n",
    "y = payroll_avg_2018,payroll_avg_2019,payroll_avg_2020\n",
    "\n",
    "plt.plot(x, y)\n",
    "plt.xlabel(\"Year\")\n",
    "plt.ylabel(\"Average Annual Payroll (10 Million)\")\n",
    "plt.title(\"Average Annual Payroll From 2018 to 2020\")\n",
    "plt.show()"
   ]
  },
  {
   "cell_type": "code",
   "execution_count": 8,
   "metadata": {},
   "outputs": [
    {
     "data": {
      "image/png": "[encoded data removed]",
      "text/plain": [
       "<Figure size 1000x500 with 1 Axes>"
      ]
     },
     "metadata": {},
     "output_type": "display_data"
    }
   ],
   "source": [
    "female_sales = df_merge[df_merge['Sex label'] == 'Female']\n",
    "male_sales = df_merge[df_merge['Sex label'] == 'Male']\n",
    "male_female_sales = df_merge[df_merge['Sex label'] == 'Equally male/female']\n",
    "\n",
    "female_sales = female_sales['Sales'].mean()\n",
    "male_sales = male_sales['Sales'].mean()\n",
    "male_female_sales = male_female_sales['Sales'].mean()\n",
    "\n",
    "avg_sales = female_sales,male_sales,male_female_sales\n",
    "\n",
    "sex_label = df_merge[(df_merge['Sex label'] == 'Male') | (df_merge['Sex label'] == 'Female') | (df_merge['Sex label'] == 'Equally male/female')]\n",
    "\n",
    "fig = plt.figure(figsize = (10, 5))\n",
    "\n",
    "plt.bar(sex_label['Sex label'].unique(),avg_sales, color ='royalblue')\n",
    "\n",
    "plt.xlabel(\"Gender\")\n",
    "plt.ylabel(\"Average Sales or Value of Shipments (10 Million)\")\n",
    "plt.title(\"Average Sales or Value of Shipments by Gender\")\n",
    "plt.show()"
   ]
  },
  {
   "cell_type": "code",
   "execution_count": 9,
   "metadata": {},
   "outputs": [
    {
     "data": {
      "image/png": "[encoded data removed]",
      "text/plain": [
       "<Figure size 640x480 with 1 Axes>"
      ]
     },
     "metadata": {},
     "output_type": "display_data"
    }
   ],
   "source": [
    "df_2018 = df_merge[df_merge['Year'] == 2018]\n",
    "df_2019 = df_merge[df_merge['Year'] == 2019]\n",
    "df_2020 = df_merge[df_merge['Year'] == 2020]\n",
    "\n",
    "df_2018_totals = df_2018[df_2018['NAICS2017 label'] == 'Total for all sectors']\n",
    "df_2019_totals = df_2019[df_2019['NAICS2017 label'] == 'Total for all sectors']\n",
    "df_2020_totals = df_2020[df_2020['NAICS2017 label'] == 'Total for all sectors']\n",
    "\n",
    "df_2018_sales_total = df_2018_totals['Sales'].sum()\n",
    "df_2019_sales_total = df_2019_totals['Sales'].sum()\n",
    "df_2020_sales_total = df_2020_totals['Sales'].sum()\n",
    "\n",
    "x = np.array(['2018','2019','2020'])\n",
    "y = df_2018_sales_total,df_2019_sales_total,df_2020_sales_total\n",
    "\n",
    "plt.plot(x, y)\n",
    "plt.xlabel(\"Year\")\n",
    "plt.ylabel(\"Total Yearly Sales\")\n",
    "plt.title(\"Total Sales From 2018 to 2020\")\n",
    "plt.show()"
   ]
  },
  {
   "cell_type": "code",
   "execution_count": 10,
   "metadata": {},
   "outputs": [
    {
     "name": "stderr",
     "output_type": "stream",
     "text": [
      "C:\\Users\\SamuelMoe\\AppData\\Local\\Temp\\ipykernel_26376\\2459352576.py:1: UserWarning: Boolean Series key will be reindexed to match DataFrame index.\n",
      "  df_2018_male = df_2018_totals[df_2018['Sex label'] == 'Male']\n",
      "C:\\Users\\SamuelMoe\\AppData\\Local\\Temp\\ipykernel_26376\\2459352576.py:2: UserWarning: Boolean Series key will be reindexed to match DataFrame index.\n",
      "  df_2019_male = df_2019_totals[df_2019['Sex label'] == 'Male']\n",
      "C:\\Users\\SamuelMoe\\AppData\\Local\\Temp\\ipykernel_26376\\2459352576.py:3: UserWarning: Boolean Series key will be reindexed to match DataFrame index.\n",
      "  df_2020_male = df_2020_totals[df_2020['Sex label'] == 'Male']\n",
      "C:\\Users\\SamuelMoe\\AppData\\Local\\Temp\\ipykernel_26376\\2459352576.py:5: UserWarning: Boolean Series key will be reindexed to match DataFrame index.\n",
      "  df_2018_female = df_2018_totals[df_2018['Sex label'] == 'Female']\n",
      "C:\\Users\\SamuelMoe\\AppData\\Local\\Temp\\ipykernel_26376\\2459352576.py:6: UserWarning: Boolean Series key will be reindexed to match DataFrame index.\n",
      "  df_2019_female = df_2019_totals[df_2019['Sex label'] == 'Female']\n",
      "C:\\Users\\SamuelMoe\\AppData\\Local\\Temp\\ipykernel_26376\\2459352576.py:7: UserWarning: Boolean Series key will be reindexed to match DataFrame index.\n",
      "  df_2020_female = df_2020_totals[df_2020['Sex label'] == 'Female']\n",
      "C:\\Users\\SamuelMoe\\AppData\\Local\\Temp\\ipykernel_26376\\2459352576.py:9: UserWarning: Boolean Series key will be reindexed to match DataFrame index.\n",
      "  df_2018_equal = df_2018_totals[df_2018['Sex label'] == 'Equally male/female']\n",
      "C:\\Users\\SamuelMoe\\AppData\\Local\\Temp\\ipykernel_26376\\2459352576.py:10: UserWarning: Boolean Series key will be reindexed to match DataFrame index.\n",
      "  df_2019_equal = df_2019_totals[df_2019['Sex label'] == 'Equally male/female']\n",
      "C:\\Users\\SamuelMoe\\AppData\\Local\\Temp\\ipykernel_26376\\2459352576.py:11: UserWarning: Boolean Series key will be reindexed to match DataFrame index.\n",
      "  df_2020_equal = df_2020_totals[df_2020['Sex label'] == 'Equally male/female']\n"
     ]
    },
    {
     "data": {
      "image/png": "[encoded data removed]",
      "text/plain": [
       "<Figure size 640x480 with 1 Axes>"
      ]
     },
     "metadata": {},
     "output_type": "display_data"
    },
    {
     "data": {
      "image/png": "[encoded data removed]",
      "text/plain": [
       "<Figure size 640x480 with 1 Axes>"
      ]
     },
     "metadata": {},
     "output_type": "display_data"
    }
   ],
   "source": [
    "df_2018_male = df_2018_totals[df_2018['Sex label'] == 'Male']\n",
    "df_2019_male = df_2019_totals[df_2019['Sex label'] == 'Male']\n",
    "df_2020_male = df_2020_totals[df_2020['Sex label'] == 'Male']\n",
    "\n",
    "df_2018_female = df_2018_totals[df_2018['Sex label'] == 'Female']\n",
    "df_2019_female = df_2019_totals[df_2019['Sex label'] == 'Female']\n",
    "df_2020_female = df_2020_totals[df_2020['Sex label'] == 'Female']\n",
    "\n",
    "df_2018_equal = df_2018_totals[df_2018['Sex label'] == 'Equally male/female']\n",
    "df_2019_equal = df_2019_totals[df_2019['Sex label'] == 'Equally male/female']\n",
    "df_2020_equal = df_2020_totals[df_2020['Sex label'] == 'Equally male/female']\n",
    "\n",
    "x = np.array(['2018','2019','2020'])\n",
    "y_male_sum = df_2018_male['Sales'].sum(), df_2019_male['Sales'].sum(), df_2020_male['Sales'].sum()\n",
    "y_female_sum = df_2018_female['Sales'].sum(), df_2019_female['Sales'].sum(),  df_2020_female['Sales'].sum()\n",
    "y_equal_sum = df_2018_equal['Sales'].sum(), df_2019_equal['Sales'].sum(), df_2020_equal['Sales'].sum()\n",
    "\n",
    "y_male_count =  df_2018_male['Sales'].count(), df_2019_male['Sales'].count(), df_2020_male['Sales'].count()\n",
    "y_female_count = df_2018_female['Sales'].count(), df_2019_female['Sales'].count(), df_2020_female['Sales'].count()\n",
    "y_equal_count = df_2018_equal['Sales'].count(), df_2019_equal['Sales'].count(), df_2020_equal['Sales'].count()\n",
    "\n",
    "plt.plot(x, y_male_sum, label = 'Male')\n",
    "plt.plot(x, y_female_sum, label = 'Female')\n",
    "plt.plot(x, y_equal_sum, label = 'Equally male/female')\n",
    "plt.xlabel(\"Year\")\n",
    "plt.ylabel(\"Value Of Yearly Sales\")\n",
    "plt.title(\"Total Value Of Sales By Sex From 2018 to 2020\")\n",
    "plt.legend()\n",
    "plt.show()\n",
    "\n",
    "plt.plot(x, y_male_count, label = 'Male')\n",
    "plt.plot(x, y_female_count, label = 'Female')\n",
    "plt.plot(x, y_equal_count, label = 'Equally male/female')\n",
    "plt.xlabel(\"Year\")\n",
    "plt.ylabel(\"Number Of Yearly Sales\")\n",
    "plt.title(\"Volume Of Sales By Sex From 2018 to 2020\")\n",
    "plt.legend()\n",
    "plt.show()"
   ]
  },
  {
   "cell_type": "code",
   "execution_count": 11,
   "metadata": {},
   "outputs": [
    {
     "name": "stderr",
     "output_type": "stream",
     "text": [
      "C:\\Users\\SamuelMoe\\AppData\\Local\\Temp\\ipykernel_26376\\1755931501.py:1: UserWarning: Boolean Series key will be reindexed to match DataFrame index.\n",
      "  df_2018_white = df_2018_totals[df_2018['Race group label'] == 'White']\n",
      "C:\\Users\\SamuelMoe\\AppData\\Local\\Temp\\ipykernel_26376\\1755931501.py:2: UserWarning: Boolean Series key will be reindexed to match DataFrame index.\n",
      "  df_2019_white = df_2019_totals[df_2019['Race group label'] == 'White']\n",
      "C:\\Users\\SamuelMoe\\AppData\\Local\\Temp\\ipykernel_26376\\1755931501.py:3: UserWarning: Boolean Series key will be reindexed to match DataFrame index.\n",
      "  df_2020_white = df_2020_totals[df_2020['Race group label'] == 'White']\n",
      "C:\\Users\\SamuelMoe\\AppData\\Local\\Temp\\ipykernel_26376\\1755931501.py:5: UserWarning: Boolean Series key will be reindexed to match DataFrame index.\n",
      "  df_2018_black = df_2018_totals[df_2018['Race group label'] == 'Black or African American']\n",
      "C:\\Users\\SamuelMoe\\AppData\\Local\\Temp\\ipykernel_26376\\1755931501.py:6: UserWarning: Boolean Series key will be reindexed to match DataFrame index.\n",
      "  df_2019_black = df_2019_totals[df_2019['Race group label'] == 'Black or African American']\n",
      "C:\\Users\\SamuelMoe\\AppData\\Local\\Temp\\ipykernel_26376\\1755931501.py:7: UserWarning: Boolean Series key will be reindexed to match DataFrame index.\n",
      "  df_2020_black = df_2020_totals[df_2020['Race group label'] == 'Black or African American']\n",
      "C:\\Users\\SamuelMoe\\AppData\\Local\\Temp\\ipykernel_26376\\1755931501.py:9: UserWarning: Boolean Series key will be reindexed to match DataFrame index.\n",
      "  df_2018_ai = df_2018_totals[df_2018['Race group label'] == 'American Indian and Alaska Native']\n",
      "C:\\Users\\SamuelMoe\\AppData\\Local\\Temp\\ipykernel_26376\\1755931501.py:10: UserWarning: Boolean Series key will be reindexed to match DataFrame index.\n",
      "  df_2019_ai = df_2019_totals[df_2019['Race group label'] == 'American Indian and Alaska Native']\n",
      "C:\\Users\\SamuelMoe\\AppData\\Local\\Temp\\ipykernel_26376\\1755931501.py:11: UserWarning: Boolean Series key will be reindexed to match DataFrame index.\n",
      "  df_2020_ai = df_2020_totals[df_2020['Race group label'] == 'American Indian and Alaska Native']\n",
      "C:\\Users\\SamuelMoe\\AppData\\Local\\Temp\\ipykernel_26376\\1755931501.py:13: UserWarning: Boolean Series key will be reindexed to match DataFrame index.\n",
      "  df_2018_asian = df_2018_totals[df_2018['Race group label'] == 'Asian']\n",
      "C:\\Users\\SamuelMoe\\AppData\\Local\\Temp\\ipykernel_26376\\1755931501.py:14: UserWarning: Boolean Series key will be reindexed to match DataFrame index.\n",
      "  df_2019_asian = df_2019_totals[df_2019['Race group label'] == 'Asian']\n",
      "C:\\Users\\SamuelMoe\\AppData\\Local\\Temp\\ipykernel_26376\\1755931501.py:15: UserWarning: Boolean Series key will be reindexed to match DataFrame index.\n",
      "  df_2020_asian = df_2020_totals[df_2020['Race group label'] == 'Asian']\n",
      "C:\\Users\\SamuelMoe\\AppData\\Local\\Temp\\ipykernel_26376\\1755931501.py:17: UserWarning: Boolean Series key will be reindexed to match DataFrame index.\n",
      "  df_2018_nhpi = df_2018_totals[df_2018['Race group label'] == 'Native Hawaiian and Other Pacific Islander']\n",
      "C:\\Users\\SamuelMoe\\AppData\\Local\\Temp\\ipykernel_26376\\1755931501.py:18: UserWarning: Boolean Series key will be reindexed to match DataFrame index.\n",
      "  df_2019_nhpi = df_2019_totals[df_2019['Race group label'] == 'Native Hawaiian and Other Pacific Islander']\n",
      "C:\\Users\\SamuelMoe\\AppData\\Local\\Temp\\ipykernel_26376\\1755931501.py:19: UserWarning: Boolean Series key will be reindexed to match DataFrame index.\n",
      "  df_2020_nhpi = df_2020_totals[df_2020['Race group label'] == 'Native Hawaiian and Other Pacific Islander']\n"
     ]
    },
    {
     "data": {
      "application/vnd.plotly.v1+json": {
       "config": {
        "plotlyServerURL": "https://plot.ly"
       },
       "data": [
        {
         "mode": "lines",
         "name": "White",
         "type": "scatter",
         "x": [
          2018,
          2019,
          2020
         ],
         "y": [
          146098327903,
          153717396957,
          191801411085
         ]
        },
        {
         "mode": "lines",
         "name": "Black",
         "type": "scatter",
         "x": [
          2018,
          2019,
          2020
         ],
         "y": [
          1388384642,
          1466667722,
          2042406751
         ]
        },
        {
         "mode": "lines",
         "name": "American Indian and Alaska Native",
         "type": "scatter",
         "x": [
          2018,
          2019,
          2020
         ],
         "y": [
          364760948,
          380380451,
          564579845
         ]
        },
        {
         "mode": "lines",
         "name": "Asian",
         "type": "scatter",
         "x": [
          2018,
          2019,
          2020
         ],
         "y": [
          9458559137,
          9551490613,
          12154992935
         ]
        },
        {
         "mode": "lines",
         "name": "Native Hawaiian and Other Pacific Islander ",
         "type": "scatter",
         "x": [
          2018,
          2019,
          2020
         ],
         "y": [
          73829527,
          80266844,
          80090530
         ]
        }
       ],
       "layout": {
        "template": {
         "data": {
          "bar": [
           {
            "error_x": {
             "color": "#2a3f5f"
            },
            "error_y": {
             "color": "#2a3f5f"
            },
            "marker": {
             "line": {
              "color": "#E5ECF6",
              "width": 0.5
             },
             "pattern": {
              "fillmode": "overlay",
              "size": 10,
              "solidity": 0.2
             }
            },
            "type": "bar"
           }
          ],
          "barpolar": [
           {
            "marker": {
             "line": {
              "color": "#E5ECF6",
              "width": 0.5
             },
             "pattern": {
              "fillmode": "overlay",
              "size": 10,
              "solidity": 0.2
             }
            },
            "type": "barpolar"
           }
          ],
          "carpet": [
           {
            "aaxis": {
             "endlinecolor": "#2a3f5f",
             "gridcolor": "white",
             "linecolor": "white",
             "minorgridcolor": "white",
             "startlinecolor": "#2a3f5f"
            },
            "baxis": {
             "endlinecolor": "#2a3f5f",
             "gridcolor": "white",
             "linecolor": "white",
             "minorgridcolor": "white",
             "startlinecolor": "#2a3f5f"
            },
            "type": "carpet"
           }
          ],
          "choropleth": [
           {
            "colorbar": {
             "outlinewidth": 0,
             "ticks": ""
            },
            "type": "choropleth"
           }
          ],
          "contour": [
           {
            "colorbar": {
             "outlinewidth": 0,
             "ticks": ""
            },
            "colorscale": [
             [
              0,
              "#0d0887"
             ],
             [
              0.1111111111111111,
              "#46039f"
             ],
             [
              0.2222222222222222,
              "#7201a8"
             ],
             [
              0.3333333333333333,
              "#9c179e"
             ],
             [
              0.4444444444444444,
              "#bd3786"
             ],
             [
              0.5555555555555556,
              "#d8576b"
             ],
             [
              0.6666666666666666,
              "#ed7953"
             ],
             [
              0.7777777777777778,
              "#fb9f3a"
             ],
             [
              0.8888888888888888,
              "#fdca26"
             ],
             [
              1,
              "#f0f921"
             ]
            ],
            "type": "contour"
           }
          ],
          "contourcarpet": [
           {
            "colorbar": {
             "outlinewidth": 0,
             "ticks": ""
            },
            "type": "contourcarpet"
           }
          ],
          "heatmap": [
           {
            "colorbar": {
             "outlinewidth": 0,
             "ticks": ""
            },
            "colorscale": [
             [
              0,
              "#0d0887"
             ],
             [
              0.1111111111111111,
              "#46039f"
             ],
             [
              0.2222222222222222,
              "#7201a8"
             ],
             [
              0.3333333333333333,
              "#9c179e"
             ],
             [
              0.4444444444444444,
              "#bd3786"
             ],
             [
              0.5555555555555556,
              "#d8576b"
             ],
             [
              0.6666666666666666,
              "#ed7953"
             ],
             [
              0.7777777777777778,
              "#fb9f3a"
             ],
             [
              0.8888888888888888,
              "#fdca26"
             ],
             [
              1,
              "#f0f921"
             ]
            ],
            "type": "heatmap"
           }
          ],
          "heatmapgl": [
           {
            "colorbar": {
             "outlinewidth": 0,
             "ticks": ""
            },
            "colorscale": [
             [
              0,
              "#0d0887"
             ],
             [
              0.1111111111111111,
              "#46039f"
             ],
             [
              0.2222222222222222,
              "#7201a8"
             ],
             [
              0.3333333333333333,
              "#9c179e"
             ],
             [
              0.4444444444444444,
              "#bd3786"
             ],
             [
              0.5555555555555556,
              "#d8576b"
             ],
             [
              0.6666666666666666,
              "#ed7953"
             ],
             [
              0.7777777777777778,
              "#fb9f3a"
             ],
             [
              0.8888888888888888,
              "#fdca26"
             ],
             [
              1,
              "#f0f921"
             ]
            ],
            "type": "heatmapgl"
           }
          ],
          "histogram": [
           {
            "marker": {
             "pattern": {
              "fillmode": "overlay",
              "size": 10,
              "solidity": 0.2
             }
            },
            "type": "histogram"
           }
          ],
          "histogram2d": [
           {
            "colorbar": {
             "outlinewidth": 0,
             "ticks": ""
            },
            "colorscale": [
             [
              0,
              "#0d0887"
             ],
             [
              0.1111111111111111,
              "#46039f"
             ],
             [
              0.2222222222222222,
              "#7201a8"
             ],
             [
              0.3333333333333333,
              "#9c179e"
             ],
             [
              0.4444444444444444,
              "#bd3786"
             ],
             [
              0.5555555555555556,
              "#d8576b"
             ],
             [
              0.6666666666666666,
              "#ed7953"
             ],
             [
              0.7777777777777778,
              "#fb9f3a"
             ],
             [
              0.8888888888888888,
              "#fdca26"
             ],
             [
              1,
              "#f0f921"
             ]
            ],
            "type": "histogram2d"
           }
          ],
          "histogram2dcontour": [
           {
            "colorbar": {
             "outlinewidth": 0,
             "ticks": ""
            },
            "colorscale": [
             [
              0,
              "#0d0887"
             ],
             [
              0.1111111111111111,
              "#46039f"
             ],
             [
              0.2222222222222222,
              "#7201a8"
             ],
             [
              0.3333333333333333,
              "#9c179e"
             ],
             [
              0.4444444444444444,
              "#bd3786"
             ],
             [
              0.5555555555555556,
              "#d8576b"
             ],
             [
              0.6666666666666666,
              "#ed7953"
             ],
             [
              0.7777777777777778,
              "#fb9f3a"
             ],
             [
              0.8888888888888888,
              "#fdca26"
             ],
             [
              1,
              "#f0f921"
             ]
            ],
            "type": "histogram2dcontour"
           }
          ],
          "mesh3d": [
           {
            "colorbar": {
             "outlinewidth": 0,
             "ticks": ""
            },
            "type": "mesh3d"
           }
          ],
          "parcoords": [
           {
            "line": {
             "colorbar": {
              "outlinewidth": 0,
              "ticks": ""
             }
            },
            "type": "parcoords"
           }
          ],
          "pie": [
           {
            "automargin": true,
            "type": "pie"
           }
          ],
          "scatter": [
           {
            "fillpattern": {
             "fillmode": "overlay",
             "size": 10,
             "solidity": 0.2
            },
            "type": "scatter"
           }
          ],
          "scatter3d": [
           {
            "line": {
             "colorbar": {
              "outlinewidth": 0,
              "ticks": ""
             }
            },
            "marker": {
             "colorbar": {
              "outlinewidth": 0,
              "ticks": ""
             }
            },
            "type": "scatter3d"
           }
          ],
          "scattercarpet": [
           {
            "marker": {
             "colorbar": {
              "outlinewidth": 0,
              "ticks": ""
             }
            },
            "type": "scattercarpet"
           }
          ],
          "scattergeo": [
           {
            "marker": {
             "colorbar": {
              "outlinewidth": 0,
              "ticks": ""
             }
            },
            "type": "scattergeo"
           }
          ],
          "scattergl": [
           {
            "marker": {
             "colorbar": {
              "outlinewidth": 0,
              "ticks": ""
             }
            },
            "type": "scattergl"
           }
          ],
          "scattermapbox": [
           {
            "marker": {
             "colorbar": {
              "outlinewidth": 0,
              "ticks": ""
             }
            },
            "type": "scattermapbox"
           }
          ],
          "scatterpolar": [
           {
            "marker": {
             "colorbar": {
              "outlinewidth": 0,
              "ticks": ""
             }
            },
            "type": "scatterpolar"
           }
          ],
          "scatterpolargl": [
           {
            "marker": {
             "colorbar": {
              "outlinewidth": 0,
              "ticks": ""
             }
            },
            "type": "scatterpolargl"
           }
          ],
          "scatterternary": [
           {
            "marker": {
             "colorbar": {
              "outlinewidth": 0,
              "ticks": ""
             }
            },
            "type": "scatterternary"
           }
          ],
          "surface": [
           {
            "colorbar": {
             "outlinewidth": 0,
             "ticks": ""
            },
            "colorscale": [
             [
              0,
              "#0d0887"
             ],
             [
              0.1111111111111111,
              "#46039f"
             ],
             [
              0.2222222222222222,
              "#7201a8"
             ],
             [
              0.3333333333333333,
              "#9c179e"
             ],
             [
              0.4444444444444444,
              "#bd3786"
             ],
             [
              0.5555555555555556,
              "#d8576b"
             ],
             [
              0.6666666666666666,
              "#ed7953"
             ],
             [
              0.7777777777777778,
              "#fb9f3a"
             ],
             [
              0.8888888888888888,
              "#fdca26"
             ],
             [
              1,
              "#f0f921"
             ]
            ],
            "type": "surface"
           }
          ],
          "table": [
           {
            "cells": {
             "fill": {
              "color": "#EBF0F8"
             },
             "line": {
              "color": "white"
             }
            },
            "header": {
             "fill": {
              "color": "#C8D4E3"
             },
             "line": {
              "color": "white"
             }
            },
            "type": "table"
           }
          ]
         },
         "layout": {
          "annotationdefaults": {
           "arrowcolor": "#2a3f5f",
           "arrowhead": 0,
           "arrowwidth": 1
          },
          "autotypenumbers": "strict",
          "coloraxis": {
           "colorbar": {
            "outlinewidth": 0,
            "ticks": ""
           }
          },
          "colorscale": {
           "diverging": [
            [
             0,
             "#8e0152"
            ],
            [
             0.1,
             "#c51b7d"
            ],
            [
             0.2,
             "#de77ae"
            ],
            [
             0.3,
             "#f1b6da"
            ],
            [
             0.4,
             "#fde0ef"
            ],
            [
             0.5,
             "#f7f7f7"
            ],
            [
             0.6,
             "#e6f5d0"
            ],
            [
             0.7,
             "#b8e186"
            ],
            [
             0.8,
             "#7fbc41"
            ],
            [
             0.9,
             "#4d9221"
            ],
            [
             1,
             "#276419"
            ]
           ],
           "sequential": [
            [
             0,
             "#0d0887"
            ],
            [
             0.1111111111111111,
             "#46039f"
            ],
            [
             0.2222222222222222,
             "#7201a8"
            ],
            [
             0.3333333333333333,
             "#9c179e"
            ],
            [
             0.4444444444444444,
             "#bd3786"
            ],
            [
             0.5555555555555556,
             "#d8576b"
            ],
            [
             0.6666666666666666,
             "#ed7953"
            ],
            [
             0.7777777777777778,
             "#fb9f3a"
            ],
            [
             0.8888888888888888,
             "#fdca26"
            ],
            [
             1,
             "#f0f921"
            ]
           ],
           "sequentialminus": [
            [
             0,
             "#0d0887"
            ],
            [
             0.1111111111111111,
             "#46039f"
            ],
            [
             0.2222222222222222,
             "#7201a8"
            ],
            [
             0.3333333333333333,
             "#9c179e"
            ],
            [
             0.4444444444444444,
             "#bd3786"
            ],
            [
             0.5555555555555556,
             "#d8576b"
            ],
            [
             0.6666666666666666,
             "#ed7953"
            ],
            [
             0.7777777777777778,
             "#fb9f3a"
            ],
            [
             0.8888888888888888,
             "#fdca26"
            ],
            [
             1,
             "#f0f921"
            ]
           ]
          },
          "colorway": [
           "#636efa",
           "#EF553B",
           "#00cc96",
           "#ab63fa",
           "#FFA15A",
           "#19d3f3",
           "#FF6692",
           "#B6E880",
           "#FF97FF",
           "#FECB52"
          ],
          "font": {
           "color": "#2a3f5f"
          },
          "geo": {
           "bgcolor": "white",
           "lakecolor": "white",
           "landcolor": "#E5ECF6",
           "showlakes": true,
           "showland": true,
           "subunitcolor": "white"
          },
          "hoverlabel": {
           "align": "left"
          },
          "hovermode": "closest",
          "mapbox": {
           "style": "light"
          },
          "paper_bgcolor": "white",
          "plot_bgcolor": "#E5ECF6",
          "polar": {
           "angularaxis": {
            "gridcolor": "white",
            "linecolor": "white",
            "ticks": ""
           },
           "bgcolor": "#E5ECF6",
           "radialaxis": {
            "gridcolor": "white",
            "linecolor": "white",
            "ticks": ""
           }
          },
          "scene": {
           "xaxis": {
            "backgroundcolor": "#E5ECF6",
            "gridcolor": "white",
            "gridwidth": 2,
            "linecolor": "white",
            "showbackground": true,
            "ticks": "",
            "zerolinecolor": "white"
           },
           "yaxis": {
            "backgroundcolor": "#E5ECF6",
            "gridcolor": "white",
            "gridwidth": 2,
            "linecolor": "white",
            "showbackground": true,
            "ticks": "",
            "zerolinecolor": "white"
           },
           "zaxis": {
            "backgroundcolor": "#E5ECF6",
            "gridcolor": "white",
            "gridwidth": 2,
            "linecolor": "white",
            "showbackground": true,
            "ticks": "",
            "zerolinecolor": "white"
           }
          },
          "shapedefaults": {
           "line": {
            "color": "#2a3f5f"
           }
          },
          "ternary": {
           "aaxis": {
            "gridcolor": "white",
            "linecolor": "white",
            "ticks": ""
           },
           "baxis": {
            "gridcolor": "white",
            "linecolor": "white",
            "ticks": ""
           },
           "bgcolor": "#E5ECF6",
           "caxis": {
            "gridcolor": "white",
            "linecolor": "white",
            "ticks": ""
           }
          },
          "title": {
           "x": 0.05
          },
          "xaxis": {
           "automargin": true,
           "gridcolor": "white",
           "linecolor": "white",
           "ticks": "",
           "title": {
            "standoff": 15
           },
           "zerolinecolor": "white",
           "zerolinewidth": 2
          },
          "yaxis": {
           "automargin": true,
           "gridcolor": "white",
           "linecolor": "white",
           "ticks": "",
           "title": {
            "standoff": 15
           },
           "zerolinecolor": "white",
           "zerolinewidth": 2
          }
         }
        },
        "title": {
         "text": "Total Sales By Owner Race Group (2018-2020)"
        },
        "xaxis": {
         "title": {
          "text": "Year"
         }
        },
        "yaxis": {
         "title": {
          "text": "Total Yearly Sales"
         }
        }
       }
      }
     },
     "metadata": {},
     "output_type": "display_data"
    },
    {
     "data": {
      "application/vnd.plotly.v1+json": {
       "config": {
        "plotlyServerURL": "https://plot.ly"
       },
       "data": [
        {
         "mode": "lines",
         "name": "White",
         "type": "scatter",
         "x": [
          2018,
          2019,
          2020
         ],
         "y": [
          127,
          127,
          137
         ]
        },
        {
         "mode": "lines",
         "name": "Black",
         "type": "scatter",
         "x": [
          2018,
          2019,
          2020
         ],
         "y": [
          120,
          117,
          130
         ]
        },
        {
         "mode": "lines",
         "name": "American Indian and Alaska Native",
         "type": "scatter",
         "x": [
          2018,
          2019,
          2020
         ],
         "y": [
          107,
          110,
          124
         ]
        },
        {
         "mode": "lines",
         "name": "Asian",
         "type": "scatter",
         "x": [
          2018,
          2019,
          2020
         ],
         "y": [
          114,
          119,
          127
         ]
        },
        {
         "mode": "lines",
         "name": "Native Hawaiian and Other Pacific Islander ",
         "type": "scatter",
         "x": [
          2018,
          2019,
          2020
         ],
         "y": [
          98,
          98,
          105
         ]
        }
       ],
       "layout": {
        "template": {
         "data": {
          "bar": [
           {
            "error_x": {
             "color": "#2a3f5f"
            },
            "error_y": {
             "color": "#2a3f5f"
            },
            "marker": {
             "line": {
              "color": "#E5ECF6",
              "width": 0.5
             },
             "pattern": {
              "fillmode": "overlay",
              "size": 10,
              "solidity": 0.2
             }
            },
            "type": "bar"
           }
          ],
          "barpolar": [
           {
            "marker": {
             "line": {
              "color": "#E5ECF6",
              "width": 0.5
             },
             "pattern": {
              "fillmode": "overlay",
              "size": 10,
              "solidity": 0.2
             }
            },
            "type": "barpolar"
           }
          ],
          "carpet": [
           {
            "aaxis": {
             "endlinecolor": "#2a3f5f",
             "gridcolor": "white",
             "linecolor": "white",
             "minorgridcolor": "white",
             "startlinecolor": "#2a3f5f"
            },
            "baxis": {
             "endlinecolor": "#2a3f5f",
             "gridcolor": "white",
             "linecolor": "white",
             "minorgridcolor": "white",
             "startlinecolor": "#2a3f5f"
            },
            "type": "carpet"
           }
          ],
          "choropleth": [
           {
            "colorbar": {
             "outlinewidth": 0,
             "ticks": ""
            },
            "type": "choropleth"
           }
          ],
          "contour": [
           {
            "colorbar": {
             "outlinewidth": 0,
             "ticks": ""
            },
            "colorscale": [
             [
              0,
              "#0d0887"
             ],
             [
              0.1111111111111111,
              "#46039f"
             ],
             [
              0.2222222222222222,
              "#7201a8"
             ],
             [
              0.3333333333333333,
              "#9c179e"
             ],
             [
              0.4444444444444444,
              "#bd3786"
             ],
             [
              0.5555555555555556,
              "#d8576b"
             ],
             [
              0.6666666666666666,
              "#ed7953"
             ],
             [
              0.7777777777777778,
              "#fb9f3a"
             ],
             [
              0.8888888888888888,
              "#fdca26"
             ],
             [
              1,
              "#f0f921"
             ]
            ],
            "type": "contour"
           }
          ],
          "contourcarpet": [
           {
            "colorbar": {
             "outlinewidth": 0,
             "ticks": ""
            },
            "type": "contourcarpet"
           }
          ],
          "heatmap": [
           {
            "colorbar": {
             "outlinewidth": 0,
             "ticks": ""
            },
            "colorscale": [
             [
              0,
              "#0d0887"
             ],
             [
              0.1111111111111111,
              "#46039f"
             ],
             [
              0.2222222222222222,
              "#7201a8"
             ],
             [
              0.3333333333333333,
              "#9c179e"
             ],
             [
              0.4444444444444444,
              "#bd3786"
             ],
             [
              0.5555555555555556,
              "#d8576b"
             ],
             [
              0.6666666666666666,
              "#ed7953"
             ],
             [
              0.7777777777777778,
              "#fb9f3a"
             ],
             [
              0.8888888888888888,
              "#fdca26"
             ],
             [
              1,
              "#f0f921"
             ]
            ],
            "type": "heatmap"
           }
          ],
          "heatmapgl": [
           {
            "colorbar": {
             "outlinewidth": 0,
             "ticks": ""
            },
            "colorscale": [
             [
              0,
              "#0d0887"
             ],
             [
              0.1111111111111111,
              "#46039f"
             ],
             [
              0.2222222222222222,
              "#7201a8"
             ],
             [
              0.3333333333333333,
              "#9c179e"
             ],
             [
              0.4444444444444444,
              "#bd3786"
             ],
             [
              0.5555555555555556,
              "#d8576b"
             ],
             [
              0.6666666666666666,
              "#ed7953"
             ],
             [
              0.7777777777777778,
              "#fb9f3a"
             ],
             [
              0.8888888888888888,
              "#fdca26"
             ],
             [
              1,
              "#f0f921"
             ]
            ],
            "type": "heatmapgl"
           }
          ],
          "histogram": [
           {
            "marker": {
             "pattern": {
              "fillmode": "overlay",
              "size": 10,
              "solidity": 0.2
             }
            },
            "type": "histogram"
           }
          ],
          "histogram2d": [
           {
            "colorbar": {
             "outlinewidth": 0,
             "ticks": ""
            },
            "colorscale": [
             [
              0,
              "#0d0887"
             ],
             [
              0.1111111111111111,
              "#46039f"
             ],
             [
              0.2222222222222222,
              "#7201a8"
             ],
             [
              0.3333333333333333,
              "#9c179e"
             ],
             [
              0.4444444444444444,
              "#bd3786"
             ],
             [
              0.5555555555555556,
              "#d8576b"
             ],
             [
              0.6666666666666666,
              "#ed7953"
             ],
             [
              0.7777777777777778,
              "#fb9f3a"
             ],
             [
              0.8888888888888888,
              "#fdca26"
             ],
             [
              1,
              "#f0f921"
             ]
            ],
            "type": "histogram2d"
           }
          ],
          "histogram2dcontour": [
           {
            "colorbar": {
             "outlinewidth": 0,
             "ticks": ""
            },
            "colorscale": [
             [
              0,
              "#0d0887"
             ],
             [
              0.1111111111111111,
              "#46039f"
             ],
             [
              0.2222222222222222,
              "#7201a8"
             ],
             [
              0.3333333333333333,
              "#9c179e"
             ],
             [
              0.4444444444444444,
              "#bd3786"
             ],
             [
              0.5555555555555556,
              "#d8576b"
             ],
             [
              0.6666666666666666,
              "#ed7953"
             ],
             [
              0.7777777777777778,
              "#fb9f3a"
             ],
             [
              0.8888888888888888,
              "#fdca26"
             ],
             [
              1,
              "#f0f921"
             ]
            ],
            "type": "histogram2dcontour"
           }
          ],
          "mesh3d": [
           {
            "colorbar": {
             "outlinewidth": 0,
             "ticks": ""
            },
            "type": "mesh3d"
           }
          ],
          "parcoords": [
           {
            "line": {
             "colorbar": {
              "outlinewidth": 0,
              "ticks": ""
             }
            },
            "type": "parcoords"
           }
          ],
          "pie": [
           {
            "automargin": true,
            "type": "pie"
           }
          ],
          "scatter": [
           {
            "fillpattern": {
             "fillmode": "overlay",
             "size": 10,
             "solidity": 0.2
            },
            "type": "scatter"
           }
          ],
          "scatter3d": [
           {
            "line": {
             "colorbar": {
              "outlinewidth": 0,
              "ticks": ""
             }
            },
            "marker": {
             "colorbar": {
              "outlinewidth": 0,
              "ticks": ""
             }
            },
            "type": "scatter3d"
           }
          ],
          "scattercarpet": [
           {
            "marker": {
             "colorbar": {
              "outlinewidth": 0,
              "ticks": ""
             }
            },
            "type": "scattercarpet"
           }
          ],
          "scattergeo": [
           {
            "marker": {
             "colorbar": {
              "outlinewidth": 0,
              "ticks": ""
             }
            },
            "type": "scattergeo"
           }
          ],
          "scattergl": [
           {
            "marker": {
             "colorbar": {
              "outlinewidth": 0,
              "ticks": ""
             }
            },
            "type": "scattergl"
           }
          ],
          "scattermapbox": [
           {
            "marker": {
             "colorbar": {
              "outlinewidth": 0,
              "ticks": ""
             }
            },
            "type": "scattermapbox"
           }
          ],
          "scatterpolar": [
           {
            "marker": {
             "colorbar": {
              "outlinewidth": 0,
              "ticks": ""
             }
            },
            "type": "scatterpolar"
           }
          ],
          "scatterpolargl": [
           {
            "marker": {
             "colorbar": {
              "outlinewidth": 0,
              "ticks": ""
             }
            },
            "type": "scatterpolargl"
           }
          ],
          "scatterternary": [
           {
            "marker": {
             "colorbar": {
              "outlinewidth": 0,
              "ticks": ""
             }
            },
            "type": "scatterternary"
           }
          ],
          "surface": [
           {
            "colorbar": {
             "outlinewidth": 0,
             "ticks": ""
            },
            "colorscale": [
             [
              0,
              "#0d0887"
             ],
             [
              0.1111111111111111,
              "#46039f"
             ],
             [
              0.2222222222222222,
              "#7201a8"
             ],
             [
              0.3333333333333333,
              "#9c179e"
             ],
             [
              0.4444444444444444,
              "#bd3786"
             ],
             [
              0.5555555555555556,
              "#d8576b"
             ],
             [
              0.6666666666666666,
              "#ed7953"
             ],
             [
              0.7777777777777778,
              "#fb9f3a"
             ],
             [
              0.8888888888888888,
              "#fdca26"
             ],
             [
              1,
              "#f0f921"
             ]
            ],
            "type": "surface"
           }
          ],
          "table": [
           {
            "cells": {
             "fill": {
              "color": "#EBF0F8"
             },
             "line": {
              "color": "white"
             }
            },
            "header": {
             "fill": {
              "color": "#C8D4E3"
             },
             "line": {
              "color": "white"
             }
            },
            "type": "table"
           }
          ]
         },
         "layout": {
          "annotationdefaults": {
           "arrowcolor": "#2a3f5f",
           "arrowhead": 0,
           "arrowwidth": 1
          },
          "autotypenumbers": "strict",
          "coloraxis": {
           "colorbar": {
            "outlinewidth": 0,
            "ticks": ""
           }
          },
          "colorscale": {
           "diverging": [
            [
             0,
             "#8e0152"
            ],
            [
             0.1,
             "#c51b7d"
            ],
            [
             0.2,
             "#de77ae"
            ],
            [
             0.3,
             "#f1b6da"
            ],
            [
             0.4,
             "#fde0ef"
            ],
            [
             0.5,
             "#f7f7f7"
            ],
            [
             0.6,
             "#e6f5d0"
            ],
            [
             0.7,
             "#b8e186"
            ],
            [
             0.8,
             "#7fbc41"
            ],
            [
             0.9,
             "#4d9221"
            ],
            [
             1,
             "#276419"
            ]
           ],
           "sequential": [
            [
             0,
             "#0d0887"
            ],
            [
             0.1111111111111111,
             "#46039f"
            ],
            [
             0.2222222222222222,
             "#7201a8"
            ],
            [
             0.3333333333333333,
             "#9c179e"
            ],
            [
             0.4444444444444444,
             "#bd3786"
            ],
            [
             0.5555555555555556,
             "#d8576b"
            ],
            [
             0.6666666666666666,
             "#ed7953"
            ],
            [
             0.7777777777777778,
             "#fb9f3a"
            ],
            [
             0.8888888888888888,
             "#fdca26"
            ],
            [
             1,
             "#f0f921"
            ]
           ],
           "sequentialminus": [
            [
             0,
             "#0d0887"
            ],
            [
             0.1111111111111111,
             "#46039f"
            ],
            [
             0.2222222222222222,
             "#7201a8"
            ],
            [
             0.3333333333333333,
             "#9c179e"
            ],
            [
             0.4444444444444444,
             "#bd3786"
            ],
            [
             0.5555555555555556,
             "#d8576b"
            ],
            [
             0.6666666666666666,
             "#ed7953"
            ],
            [
             0.7777777777777778,
             "#fb9f3a"
            ],
            [
             0.8888888888888888,
             "#fdca26"
            ],
            [
             1,
             "#f0f921"
            ]
           ]
          },
          "colorway": [
           "#636efa",
           "#EF553B",
           "#00cc96",
           "#ab63fa",
           "#FFA15A",
           "#19d3f3",
           "#FF6692",
           "#B6E880",
           "#FF97FF",
           "#FECB52"
          ],
          "font": {
           "color": "#2a3f5f"
          },
          "geo": {
           "bgcolor": "white",
           "lakecolor": "white",
           "landcolor": "#E5ECF6",
           "showlakes": true,
           "showland": true,
           "subunitcolor": "white"
          },
          "hoverlabel": {
           "align": "left"
          },
          "hovermode": "closest",
          "mapbox": {
           "style": "light"
          },
          "paper_bgcolor": "white",
          "plot_bgcolor": "#E5ECF6",
          "polar": {
           "angularaxis": {
            "gridcolor": "white",
            "linecolor": "white",
            "ticks": ""
           },
           "bgcolor": "#E5ECF6",
           "radialaxis": {
            "gridcolor": "white",
            "linecolor": "white",
            "ticks": ""
           }
          },
          "scene": {
           "xaxis": {
            "backgroundcolor": "#E5ECF6",
            "gridcolor": "white",
            "gridwidth": 2,
            "linecolor": "white",
            "showbackground": true,
            "ticks": "",
            "zerolinecolor": "white"
           },
           "yaxis": {
            "backgroundcolor": "#E5ECF6",
            "gridcolor": "white",
            "gridwidth": 2,
            "linecolor": "white",
            "showbackground": true,
            "ticks": "",
            "zerolinecolor": "white"
           },
           "zaxis": {
            "backgroundcolor": "#E5ECF6",
            "gridcolor": "white",
            "gridwidth": 2,
            "linecolor": "white",
            "showbackground": true,
            "ticks": "",
            "zerolinecolor": "white"
           }
          },
          "shapedefaults": {
           "line": {
            "color": "#2a3f5f"
           }
          },
          "ternary": {
           "aaxis": {
            "gridcolor": "white",
            "linecolor": "white",
            "ticks": ""
           },
           "baxis": {
            "gridcolor": "white",
            "linecolor": "white",
            "ticks": ""
           },
           "bgcolor": "#E5ECF6",
           "caxis": {
            "gridcolor": "white",
            "linecolor": "white",
            "ticks": ""
           }
          },
          "title": {
           "x": 0.05
          },
          "xaxis": {
           "automargin": true,
           "gridcolor": "white",
           "linecolor": "white",
           "ticks": "",
           "title": {
            "standoff": 15
           },
           "zerolinecolor": "white",
           "zerolinewidth": 2
          },
          "yaxis": {
           "automargin": true,
           "gridcolor": "white",
           "linecolor": "white",
           "ticks": "",
           "title": {
            "standoff": 15
           },
           "zerolinecolor": "white",
           "zerolinewidth": 2
          }
         }
        },
        "title": {
         "text": "Volume of Sales By Owner Race Group (2018-2020)"
        },
        "xaxis": {
         "title": {
          "text": "Year"
         }
        },
        "yaxis": {
         "title": {
          "text": "Count of Yearly Sales"
         }
        }
       }
      }
     },
     "metadata": {},
     "output_type": "display_data"
    }
   ],
   "source": [
    "df_2018_white = df_2018_totals[df_2018['Race group label'] == 'White']\n",
    "df_2019_white = df_2019_totals[df_2019['Race group label'] == 'White']\n",
    "df_2020_white = df_2020_totals[df_2020['Race group label'] == 'White']\n",
    "\n",
    "df_2018_black = df_2018_totals[df_2018['Race group label'] == 'Black or African American']\n",
    "df_2019_black = df_2019_totals[df_2019['Race group label'] == 'Black or African American']\n",
    "df_2020_black = df_2020_totals[df_2020['Race group label'] == 'Black or African American']\n",
    "\n",
    "df_2018_ai = df_2018_totals[df_2018['Race group label'] == 'American Indian and Alaska Native']\n",
    "df_2019_ai = df_2019_totals[df_2019['Race group label'] == 'American Indian and Alaska Native']\n",
    "df_2020_ai = df_2020_totals[df_2020['Race group label'] == 'American Indian and Alaska Native']\n",
    "\n",
    "df_2018_asian = df_2018_totals[df_2018['Race group label'] == 'Asian']\n",
    "df_2019_asian = df_2019_totals[df_2019['Race group label'] == 'Asian']\n",
    "df_2020_asian = df_2020_totals[df_2020['Race group label'] == 'Asian']\n",
    "\n",
    "df_2018_nhpi = df_2018_totals[df_2018['Race group label'] == 'Native Hawaiian and Other Pacific Islander']\n",
    "df_2019_nhpi = df_2019_totals[df_2019['Race group label'] == 'Native Hawaiian and Other Pacific Islander']\n",
    "df_2020_nhpi = df_2020_totals[df_2020['Race group label'] == 'Native Hawaiian and Other Pacific Islander']\n",
    "\n",
    "df = pd.DataFrame(dict(\n",
    "    Year = [2018, 2019, 2020],\n",
    "    white = [df_2018_white['Sales'].sum(), df_2019_white['Sales'].sum(), df_2020_white['Sales'].sum()],\n",
    "    black = [df_2018_black['Sales'].sum(), df_2019_black['Sales'].sum(), df_2020_black['Sales'].sum()],\n",
    "    ai = [df_2018_ai['Sales'].sum(), df_2019_ai['Sales'].sum(), df_2020_ai['Sales'].sum()],\n",
    "    asian = [df_2018_asian['Sales'].sum(), df_2019_asian['Sales'].sum(), df_2020_asian['Sales'].sum()],\n",
    "    nhpi = [df_2018_nhpi['Sales'].sum(),df_2019_nhpi['Sales'].sum(),df_2020_nhpi['Sales'].sum()]\n",
    "))\n",
    "\n",
    "fig = go.Figure()\n",
    "fig.add_trace(go.Scatter(x=df['Year'], y=df['white'], name='White', mode='lines'))\n",
    "fig.add_trace(go.Scatter(x=df['Year'], y=df['black'], name='Black', mode='lines'))\n",
    "fig.add_trace(go.Scatter(x=df['Year'], y=df['ai'], name='American Indian and Alaska Native', mode='lines'))\n",
    "fig.add_trace(go.Scatter(x=df['Year'], y=df['asian'], name='Asian', mode='lines'))\n",
    "fig.add_trace(go.Scatter(x=df['Year'], y=df['nhpi'], name='Native Hawaiian and Other Pacific Islander ', mode='lines'))\n",
    "\n",
    "fig.update_layout(title='Total Sales By Owner Race Group (2018-2020)', xaxis_title='Year', yaxis_title='Total Yearly Sales')\n",
    "fig.show()\n",
    "\n",
    "df2 = pd.DataFrame(dict(\n",
    "    Year = [2018, 2019, 2020],\n",
    "    white = [df_2018_white['Sales'].count(), df_2019_white['Sales'].count(), df_2020_white['Sales'].count()],\n",
    "    black = [df_2018_black['Sales'].count(), df_2019_black['Sales'].count(), df_2020_black['Sales'].count()],\n",
    "    ai = [df_2018_ai['Sales'].count(), df_2019_ai['Sales'].count(), df_2020_ai['Sales'].count()],\n",
    "    asian = [df_2018_asian['Sales'].count(), df_2019_asian['Sales'].count(), df_2020_asian['Sales'].count()],\n",
    "    nhpi = [df_2018_nhpi['Sales'].count(), df_2019_nhpi['Sales'].count(), df_2020_nhpi['Sales'].count()]\n",
    "))\n",
    "\n",
    "fig2 = go.Figure()\n",
    "fig2.add_trace(go.Scatter(x=df2['Year'], y=df2['white'], name='White', mode='lines'))\n",
    "fig2.add_trace(go.Scatter(x=df2['Year'], y=df2['black'], name='Black', mode='lines'))\n",
    "fig2.add_trace(go.Scatter(x=df2['Year'], y=df2['ai'], name='American Indian and Alaska Native', mode='lines'))\n",
    "fig2.add_trace(go.Scatter(x=df2['Year'], y=df2['asian'], name='Asian', mode='lines'))\n",
    "fig2.add_trace(go.Scatter(x=df2['Year'], y=df2['nhpi'], name='Native Hawaiian and Other Pacific Islander ', mode='lines'))\n",
    "\n",
    "fig2.update_layout(title='Volume of Sales By Owner Race Group (2018-2020)', xaxis_title='Year', yaxis_title='Count of Yearly Sales')\n",
    "fig2.show()"
   ]
  },
  {
   "cell_type": "code",
   "execution_count": 12,
   "metadata": {},
   "outputs": [],
   "source": [
    "keep_list_sex = ['Female', 'Male', 'Equally male/female']\n",
    "keep_list_race = ['White', 'Black or African American',\n",
    "                  'American Indian and Alaska Native', 'Asian',\n",
    "                  'Native Hawaiian and Other Pacific Islander', 'Minority',\n",
    "                  'Equally minority/nonminority', 'Nonminority']\n",
    "keep_list_ethnicity = ['Hispanic', 'Non-Hispanic', 'Equally Hispanic/non-Hispanic']\n",
    "\n",
    "df_merge = df_merge[(df_merge['Sex label'].isin(keep_list_sex)) &\n",
    "(df_merge['Race group label'].isin(keep_list_race)) &\n",
    "(df_merge['Ethnicity code label'].isin(keep_list_ethnicity)) &\n",
    "(df_merge['NAICS2017 label'] != 'Total for all sectors')]"
   ]
  },
  {
   "cell_type": "code",
   "execution_count": 13,
   "metadata": {},
   "outputs": [
    {
     "data": {
      "text/plain": [
       "<matplotlib.legend.Legend at 0x2380b732130>"
      ]
     },
     "execution_count": 13,
     "metadata": {},
     "output_type": "execute_result"
    },
    {
     "data": {
      "image/png": "[encoded data removed]",
      "text/plain": [
       "<Figure size 1000x500 with 1 Axes>"
      ]
     },
     "metadata": {},
     "output_type": "display_data"
    }
   ],
   "source": [
    "f, ax = plt.subplots(figsize=(10, 5))\n",
    "\n",
    "sns.barplot(x = df_merge['Annual payroll'],\n",
    "            y = df_merge['Race group label'],\n",
    "            hue = df_merge['Year'],\n",
    "            orient='h',\n",
    "            estimator=mean,\n",
    "            ci=None,\n",
    "            palette='Blues_r'\n",
    "            ).set(xlabel='Average payroll(Million)',\n",
    "                  ylabel='Race Group')\n",
    "\n",
    "for p in ax.containers:\n",
    "    ax.bar_label(p, label_type='edge', fontsize=12)\n",
    "ax.set_title('Annual payroll by Race', fontsize=20)\n",
    "ax.legend(title='Year', fontsize=15, title_fontsize=15)"
   ]
  },
  {
   "cell_type": "code",
   "execution_count": 14,
   "metadata": {},
   "outputs": [
    {
     "data": {
      "text/plain": [
       "<matplotlib.legend.Legend at 0x2380e5faa90>"
      ]
     },
     "execution_count": 14,
     "metadata": {},
     "output_type": "execute_result"
    },
    {
     "data": {
      "image/png": "[encoded data removed]",
      "text/plain": [
       "<Figure size 1000x500 with 1 Axes>"
      ]
     },
     "metadata": {},
     "output_type": "display_data"
    }
   ],
   "source": [
    "f, ax = plt.subplots(figsize=(10, 5))\n",
    "\n",
    "sns.barplot(x = df_merge['Annual payroll'],\n",
    "            y = df_merge['Race group label'],\n",
    "            hue = df_merge['Year'],\n",
    "            estimator=max,\n",
    "            ci=None,\n",
    "            orient='h',\n",
    "            palette='Reds_r'\n",
    "            ).set(xlabel='Max payroll(Million)',\n",
    "                  ylabel='Race Group')\n",
    "\n",
    "for p in ax.containers:\n",
    "    ax.bar_label(p, label_type='edge', fontsize=12)\n",
    "ax.set_title('Annual payroll by Race(Highest)', fontsize=20)\n",
    "ax.legend(title='Year', fontsize=15, title_fontsize=15)"
   ]
  },
  {
   "cell_type": "code",
   "execution_count": 15,
   "metadata": {},
   "outputs": [
    {
     "data": {
      "text/plain": [
       "<matplotlib.legend.Legend at 0x2380e5fa910>"
      ]
     },
     "execution_count": 15,
     "metadata": {},
     "output_type": "execute_result"
    },
    {
     "data": {
      "image/png": "[encoded data removed]",
      "text/plain": [
       "<Figure size 1000x500 with 1 Axes>"
      ]
     },
     "metadata": {},
     "output_type": "display_data"
    }
   ],
   "source": [
    "df_merge = df_merge[(df_merge['Annual payroll'] !=0)]\n",
    "\n",
    "f, ax = plt.subplots(figsize=(10, 5))\n",
    "sns.barplot(x = df_merge['Annual payroll'],\n",
    "            y = df_merge['Race group label'],\n",
    "            hue = df_merge['Year'],\n",
    "            estimator=min,\n",
    "            ci=None,\n",
    "            orient='h',\n",
    "            palette='BuGn'\n",
    "            ).set(xlabel='Min payroll',\n",
    "                  ylabel='Race Group')\n",
    "\n",
    "for p in ax.containers:\n",
    "    ax.bar_label(p, label_type='edge', fontsize=12)\n",
    "ax.set_title('Annual payroll by Race(Lowest)', fontsize=20)\n",
    "ax.legend(title='Year', fontsize=15, title_fontsize=15)"
   ]
  },
  {
   "cell_type": "code",
   "execution_count": 17,
   "metadata": {},
   "outputs": [
    {
     "data": {
      "application/vnd.plotly.v1+json": {
       "config": {
        "plotlyServerURL": "https://plot.ly"
       },
       "data": [
        {
         "branchvalues": "total",
         "customdata": [
          [
           8500.574334563184
          ],
          [
           416421.2676842442
          ],
          [
           98865.60013450353
          ],
          [
           2454.62224797219
          ],
          [
           2635625.0162432794
          ],
          [
           15066.404374606685
          ],
          [
           400081.97616895445
          ],
          [
           117593.63242234936
          ],
          [
           2628.9626269956457
          ],
          [
           2652631.0781883164
          ],
          [
           11271.489376269219
          ],
          [
           448735.47164255433
          ],
          [
           120307.23141452995
          ],
          [
           2546.135318082106
          ],
          [
           2609417.1046511093
          ],
          [
           11849.086922594332
          ],
          [
           422285.83744773676
          ],
          [
           112531.99165593967
          ],
          [
           2540.428221440708
          ],
          [
           2632621.4428895125
          ]
         ],
         "domain": {
          "x": [
           0,
           1
          ],
          "y": [
           0,
           1
          ]
         },
         "hovertemplate": "labels=%{label}<br>Number of employees_sum=%{value}<br>parent=%{parent}<br>id=%{id}<br>Number of employees=%{color}<extra></extra>",
         "ids": [
          "American Indian and Alaska Native/2018",
          "Asian/2018",
          "Black or African American/2018",
          "Native Hawaiian and Other Pacific Islander/2018",
          "White/2018",
          "American Indian and Alaska Native/2019",
          "Asian/2019",
          "Black or African American/2019",
          "Native Hawaiian and Other Pacific Islander/2019",
          "White/2019",
          "American Indian and Alaska Native/2020",
          "Asian/2020",
          "Black or African American/2020",
          "Native Hawaiian and Other Pacific Islander/2020",
          "White/2020",
          "American Indian and Alaska Native",
          "Asian",
          "Black or African American",
          "Native Hawaiian and Other Pacific Islander",
          "White"
         ],
         "labels": [
          "2018",
          "2018",
          "2018",
          "2018",
          "2018",
          "2019",
          "2019",
          "2019",
          "2019",
          "2019",
          "2020",
          "2020",
          "2020",
          "2020",
          "2020",
          "American Indian and Alaska Native",
          "Asian",
          "Black or African American",
          "Native Hawaiian and Other Pacific Islander",
          "White"
         ],
         "marker": {
          "coloraxis": "coloraxis",
          "colors": [
           8500.574334563184,
           416421.2676842442,
           98865.60013450353,
           2454.62224797219,
           2635625.0162432794,
           15066.404374606685,
           400081.97616895445,
           117593.63242234936,
           2628.9626269956457,
           2652631.0781883164,
           11271.489376269219,
           448735.47164255433,
           120307.23141452995,
           2546.135318082106,
           2609417.1046511093,
           11849.086922594332,
           422285.83744773676,
           112531.99165593967,
           2540.428221440708,
           2632621.4428895125
          ]
         },
         "name": "",
         "parents": [
          "American Indian and Alaska Native",
          "Asian",
          "Black or African American",
          "Native Hawaiian and Other Pacific Islander",
          "White",
          "American Indian and Alaska Native",
          "Asian",
          "Black or African American",
          "Native Hawaiian and Other Pacific Islander",
          "White",
          "American Indian and Alaska Native",
          "Asian",
          "Black or African American",
          "Native Hawaiian and Other Pacific Islander",
          "White",
          "",
          "",
          "",
          "",
          ""
         ],
         "type": "treemap",
         "values": [
          121424,
          4837371,
          1125621,
          18123,
          56667497,
          157317,
          4834534,
          1198155,
          16536,
          57426585,
          172350,
          5131051,
          1198490,
          15955,
          56855317,
          451091,
          14802956,
          3522266,
          50614,
          170949399
         ]
        }
       ],
       "layout": {
        "coloraxis": {
         "colorbar": {
          "title": {
           "text": "Number of employees"
          }
         },
         "colorscale": [
          [
           0,
           "rgb(103,0,31)"
          ],
          [
           0.1,
           "rgb(178,24,43)"
          ],
          [
           0.2,
           "rgb(214,96,77)"
          ],
          [
           0.3,
           "rgb(244,165,130)"
          ],
          [
           0.4,
           "rgb(253,219,199)"
          ],
          [
           0.5,
           "rgb(247,247,247)"
          ],
          [
           0.6,
           "rgb(209,229,240)"
          ],
          [
           0.7,
           "rgb(146,197,222)"
          ],
          [
           0.8,
           "rgb(67,147,195)"
          ],
          [
           0.9,
           "rgb(33,102,172)"
          ],
          [
           1,
           "rgb(5,48,97)"
          ]
         ]
        },
        "height": 500,
        "legend": {
         "tracegroupgap": 0
        },
        "margin": {
         "t": 60
        },
        "template": {
         "data": {
          "bar": [
           {
            "error_x": {
             "color": "#2a3f5f"
            },
            "error_y": {
             "color": "#2a3f5f"
            },
            "marker": {
             "line": {
              "color": "#E5ECF6",
              "width": 0.5
             },
             "pattern": {
              "fillmode": "overlay",
              "size": 10,
              "solidity": 0.2
             }
            },
            "type": "bar"
           }
          ],
          "barpolar": [
           {
            "marker": {
             "line": {
              "color": "#E5ECF6",
              "width": 0.5
             },
             "pattern": {
              "fillmode": "overlay",
              "size": 10,
              "solidity": 0.2
             }
            },
            "type": "barpolar"
           }
          ],
          "carpet": [
           {
            "aaxis": {
             "endlinecolor": "#2a3f5f",
             "gridcolor": "white",
             "linecolor": "white",
             "minorgridcolor": "white",
             "startlinecolor": "#2a3f5f"
            },
            "baxis": {
             "endlinecolor": "#2a3f5f",
             "gridcolor": "white",
             "linecolor": "white",
             "minorgridcolor": "white",
             "startlinecolor": "#2a3f5f"
            },
            "type": "carpet"
           }
          ],
          "choropleth": [
           {
            "colorbar": {
             "outlinewidth": 0,
             "ticks": ""
            },
            "type": "choropleth"
           }
          ],
          "contour": [
           {
            "colorbar": {
             "outlinewidth": 0,
             "ticks": ""
            },
            "colorscale": [
             [
              0,
              "#0d0887"
             ],
             [
              0.1111111111111111,
              "#46039f"
             ],
             [
              0.2222222222222222,
              "#7201a8"
             ],
             [
              0.3333333333333333,
              "#9c179e"
             ],
             [
              0.4444444444444444,
              "#bd3786"
             ],
             [
              0.5555555555555556,
              "#d8576b"
             ],
             [
              0.6666666666666666,
              "#ed7953"
             ],
             [
              0.7777777777777778,
              "#fb9f3a"
             ],
             [
              0.8888888888888888,
              "#fdca26"
             ],
             [
              1,
              "#f0f921"
             ]
            ],
            "type": "contour"
           }
          ],
          "contourcarpet": [
           {
            "colorbar": {
             "outlinewidth": 0,
             "ticks": ""
            },
            "type": "contourcarpet"
           }
          ],
          "heatmap": [
           {
            "colorbar": {
             "outlinewidth": 0,
             "ticks": ""
            },
            "colorscale": [
             [
              0,
              "#0d0887"
             ],
             [
              0.1111111111111111,
              "#46039f"
             ],
             [
              0.2222222222222222,
              "#7201a8"
             ],
             [
              0.3333333333333333,
              "#9c179e"
             ],
             [
              0.4444444444444444,
              "#bd3786"
             ],
             [
              0.5555555555555556,
              "#d8576b"
             ],
             [
              0.6666666666666666,
              "#ed7953"
             ],
             [
              0.7777777777777778,
              "#fb9f3a"
             ],
             [
              0.8888888888888888,
              "#fdca26"
             ],
             [
              1,
              "#f0f921"
             ]
            ],
            "type": "heatmap"
           }
          ],
          "heatmapgl": [
           {
            "colorbar": {
             "outlinewidth": 0,
             "ticks": ""
            },
            "colorscale": [
             [
              0,
              "#0d0887"
             ],
             [
              0.1111111111111111,
              "#46039f"
             ],
             [
              0.2222222222222222,
              "#7201a8"
             ],
             [
              0.3333333333333333,
              "#9c179e"
             ],
             [
              0.4444444444444444,
              "#bd3786"
             ],
             [
              0.5555555555555556,
              "#d8576b"
             ],
             [
              0.6666666666666666,
              "#ed7953"
             ],
             [
              0.7777777777777778,
              "#fb9f3a"
             ],
             [
              0.8888888888888888,
              "#fdca26"
             ],
             [
              1,
              "#f0f921"
             ]
            ],
            "type": "heatmapgl"
           }
          ],
          "histogram": [
           {
            "marker": {
             "pattern": {
              "fillmode": "overlay",
              "size": 10,
              "solidity": 0.2
             }
            },
            "type": "histogram"
           }
          ],
          "histogram2d": [
           {
            "colorbar": {
             "outlinewidth": 0,
             "ticks": ""
            },
            "colorscale": [
             [
              0,
              "#0d0887"
             ],
             [
              0.1111111111111111,
              "#46039f"
             ],
             [
              0.2222222222222222,
              "#7201a8"
             ],
             [
              0.3333333333333333,
              "#9c179e"
             ],
             [
              0.4444444444444444,
              "#bd3786"
             ],
             [
              0.5555555555555556,
              "#d8576b"
             ],
             [
              0.6666666666666666,
              "#ed7953"
             ],
             [
              0.7777777777777778,
              "#fb9f3a"
             ],
             [
              0.8888888888888888,
              "#fdca26"
             ],
             [
              1,
              "#f0f921"
             ]
            ],
            "type": "histogram2d"
           }
          ],
          "histogram2dcontour": [
           {
            "colorbar": {
             "outlinewidth": 0,
             "ticks": ""
            },
            "colorscale": [
             [
              0,
              "#0d0887"
             ],
             [
              0.1111111111111111,
              "#46039f"
             ],
             [
              0.2222222222222222,
              "#7201a8"
             ],
             [
              0.3333333333333333,
              "#9c179e"
             ],
             [
              0.4444444444444444,
              "#bd3786"
             ],
             [
              0.5555555555555556,
              "#d8576b"
             ],
             [
              0.6666666666666666,
              "#ed7953"
             ],
             [
              0.7777777777777778,
              "#fb9f3a"
             ],
             [
              0.8888888888888888,
              "#fdca26"
             ],
             [
              1,
              "#f0f921"
             ]
            ],
            "type": "histogram2dcontour"
           }
          ],
          "mesh3d": [
           {
            "colorbar": {
             "outlinewidth": 0,
             "ticks": ""
            },
            "type": "mesh3d"
           }
          ],
          "parcoords": [
           {
            "line": {
             "colorbar": {
              "outlinewidth": 0,
              "ticks": ""
             }
            },
            "type": "parcoords"
           }
          ],
          "pie": [
           {
            "automargin": true,
            "type": "pie"
           }
          ],
          "scatter": [
           {
            "fillpattern": {
             "fillmode": "overlay",
             "size": 10,
             "solidity": 0.2
            },
            "type": "scatter"
           }
          ],
          "scatter3d": [
           {
            "line": {
             "colorbar": {
              "outlinewidth": 0,
              "ticks": ""
             }
            },
            "marker": {
             "colorbar": {
              "outlinewidth": 0,
              "ticks": ""
             }
            },
            "type": "scatter3d"
           }
          ],
          "scattercarpet": [
           {
            "marker": {
             "colorbar": {
              "outlinewidth": 0,
              "ticks": ""
             }
            },
            "type": "scattercarpet"
           }
          ],
          "scattergeo": [
           {
            "marker": {
             "colorbar": {
              "outlinewidth": 0,
              "ticks": ""
             }
            },
            "type": "scattergeo"
           }
          ],
          "scattergl": [
           {
            "marker": {
             "colorbar": {
              "outlinewidth": 0,
              "ticks": ""
             }
            },
            "type": "scattergl"
           }
          ],
          "scattermapbox": [
           {
            "marker": {
             "colorbar": {
              "outlinewidth": 0,
              "ticks": ""
             }
            },
            "type": "scattermapbox"
           }
          ],
          "scatterpolar": [
           {
            "marker": {
             "colorbar": {
              "outlinewidth": 0,
              "ticks": ""
             }
            },
            "type": "scatterpolar"
           }
          ],
          "scatterpolargl": [
           {
            "marker": {
             "colorbar": {
              "outlinewidth": 0,
              "ticks": ""
             }
            },
            "type": "scatterpolargl"
           }
          ],
          "scatterternary": [
           {
            "marker": {
             "colorbar": {
              "outlinewidth": 0,
              "ticks": ""
             }
            },
            "type": "scatterternary"
           }
          ],
          "surface": [
           {
            "colorbar": {
             "outlinewidth": 0,
             "ticks": ""
            },
            "colorscale": [
             [
              0,
              "#0d0887"
             ],
             [
              0.1111111111111111,
              "#46039f"
             ],
             [
              0.2222222222222222,
              "#7201a8"
             ],
             [
              0.3333333333333333,
              "#9c179e"
             ],
             [
              0.4444444444444444,
              "#bd3786"
             ],
             [
              0.5555555555555556,
              "#d8576b"
             ],
             [
              0.6666666666666666,
              "#ed7953"
             ],
             [
              0.7777777777777778,
              "#fb9f3a"
             ],
             [
              0.8888888888888888,
              "#fdca26"
             ],
             [
              1,
              "#f0f921"
             ]
            ],
            "type": "surface"
           }
          ],
          "table": [
           {
            "cells": {
             "fill": {
              "color": "#EBF0F8"
             },
             "line": {
              "color": "white"
             }
            },
            "header": {
             "fill": {
              "color": "#C8D4E3"
             },
             "line": {
              "color": "white"
             }
            },
            "type": "table"
           }
          ]
         },
         "layout": {
          "annotationdefaults": {
           "arrowcolor": "#2a3f5f",
           "arrowhead": 0,
           "arrowwidth": 1
          },
          "autotypenumbers": "strict",
          "coloraxis": {
           "colorbar": {
            "outlinewidth": 0,
            "ticks": ""
           }
          },
          "colorscale": {
           "diverging": [
            [
             0,
             "#8e0152"
            ],
            [
             0.1,
             "#c51b7d"
            ],
            [
             0.2,
             "#de77ae"
            ],
            [
             0.3,
             "#f1b6da"
            ],
            [
             0.4,
             "#fde0ef"
            ],
            [
             0.5,
             "#f7f7f7"
            ],
            [
             0.6,
             "#e6f5d0"
            ],
            [
             0.7,
             "#b8e186"
            ],
            [
             0.8,
             "#7fbc41"
            ],
            [
             0.9,
             "#4d9221"
            ],
            [
             1,
             "#276419"
            ]
           ],
           "sequential": [
            [
             0,
             "#0d0887"
            ],
            [
             0.1111111111111111,
             "#46039f"
            ],
            [
             0.2222222222222222,
             "#7201a8"
            ],
            [
             0.3333333333333333,
             "#9c179e"
            ],
            [
             0.4444444444444444,
             "#bd3786"
            ],
            [
             0.5555555555555556,
             "#d8576b"
            ],
            [
             0.6666666666666666,
             "#ed7953"
            ],
            [
             0.7777777777777778,
             "#fb9f3a"
            ],
            [
             0.8888888888888888,
             "#fdca26"
            ],
            [
             1,
             "#f0f921"
            ]
           ],
           "sequentialminus": [
            [
             0,
             "#0d0887"
            ],
            [
             0.1111111111111111,
             "#46039f"
            ],
            [
             0.2222222222222222,
             "#7201a8"
            ],
            [
             0.3333333333333333,
             "#9c179e"
            ],
            [
             0.4444444444444444,
             "#bd3786"
            ],
            [
             0.5555555555555556,
             "#d8576b"
            ],
            [
             0.6666666666666666,
             "#ed7953"
            ],
            [
             0.7777777777777778,
             "#fb9f3a"
            ],
            [
             0.8888888888888888,
             "#fdca26"
            ],
            [
             1,
             "#f0f921"
            ]
           ]
          },
          "colorway": [
           "#636efa",
           "#EF553B",
           "#00cc96",
           "#ab63fa",
           "#FFA15A",
           "#19d3f3",
           "#FF6692",
           "#B6E880",
           "#FF97FF",
           "#FECB52"
          ],
          "font": {
           "color": "#2a3f5f"
          },
          "geo": {
           "bgcolor": "white",
           "lakecolor": "white",
           "landcolor": "#E5ECF6",
           "showlakes": true,
           "showland": true,
           "subunitcolor": "white"
          },
          "hoverlabel": {
           "align": "left"
          },
          "hovermode": "closest",
          "mapbox": {
           "style": "light"
          },
          "paper_bgcolor": "white",
          "plot_bgcolor": "#E5ECF6",
          "polar": {
           "angularaxis": {
            "gridcolor": "white",
            "linecolor": "white",
            "ticks": ""
           },
           "bgcolor": "#E5ECF6",
           "radialaxis": {
            "gridcolor": "white",
            "linecolor": "white",
            "ticks": ""
           }
          },
          "scene": {
           "xaxis": {
            "backgroundcolor": "#E5ECF6",
            "gridcolor": "white",
            "gridwidth": 2,
            "linecolor": "white",
            "showbackground": true,
            "ticks": "",
            "zerolinecolor": "white"
           },
           "yaxis": {
            "backgroundcolor": "#E5ECF6",
            "gridcolor": "white",
            "gridwidth": 2,
            "linecolor": "white",
            "showbackground": true,
            "ticks": "",
            "zerolinecolor": "white"
           },
           "zaxis": {
            "backgroundcolor": "#E5ECF6",
            "gridcolor": "white",
            "gridwidth": 2,
            "linecolor": "white",
            "showbackground": true,
            "ticks": "",
            "zerolinecolor": "white"
           }
          },
          "shapedefaults": {
           "line": {
            "color": "#2a3f5f"
           }
          },
          "ternary": {
           "aaxis": {
            "gridcolor": "white",
            "linecolor": "white",
            "ticks": ""
           },
           "baxis": {
            "gridcolor": "white",
            "linecolor": "white",
            "ticks": ""
           },
           "bgcolor": "#E5ECF6",
           "caxis": {
            "gridcolor": "white",
            "linecolor": "white",
            "ticks": ""
           }
          },
          "title": {
           "x": 0.05
          },
          "xaxis": {
           "automargin": true,
           "gridcolor": "white",
           "linecolor": "white",
           "ticks": "",
           "title": {
            "standoff": 15
           },
           "zerolinecolor": "white",
           "zerolinewidth": 2
          },
          "yaxis": {
           "automargin": true,
           "gridcolor": "white",
           "linecolor": "white",
           "ticks": "",
           "title": {
            "standoff": 15
           },
           "zerolinecolor": "white",
           "zerolinewidth": 2
          }
         }
        },
        "title": {
         "text": "Number of Employees by Race",
         "x": 0.5
        },
        "width": 1000
       }
      }
     },
     "metadata": {},
     "output_type": "display_data"
    }
   ],
   "source": [
    "fig=px.treemap(df_merge,path=['Race group label','Year'],\n",
    "               values='Number of employees',\n",
    "               color_continuous_scale='RdBu',\n",
    "               color='Number of employees',\n",
    "               width= 1000,\n",
    "               height=500\n",
    "               )\n",
    "\n",
    "fig.update_layout(title_text='Number of Employees by Race', title_x=.5)\n",
    "fig.show()"
   ]
  }
 ],
 "metadata": {
  "kernelspec": {
   "display_name": "Python 3 (ipykernel)",
   "language": "python",
   "name": "python3"
  },
  "language_info": {
   "codemirror_mode": {
    "name": "ipython",
    "version": 3
   },
   "file_extension": ".py",
   "mimetype": "text/x-python",
   "name": "python",
   "nbconvert_exporter": "python",
   "pygments_lexer": "ipython3",
   "version": "3.9.13"
  }
 },
 "nbformat": 4,
 "nbformat_minor": 2
}
